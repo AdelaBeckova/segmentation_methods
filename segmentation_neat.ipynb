{
 "cells": [
  {
   "cell_type": "code",
   "execution_count": 78,
   "metadata": {},
   "outputs": [],
   "source": [
    "# General\n",
    "import pandas as pd\n",
    "import numpy as np\n",
    "\n",
    "# Decision tree, imputers\n",
    "from sklearn.tree import DecisionTreeClassifier\n",
    "from sklearn.preprocessing import LabelEncoder\n",
    "from sklearn.impute import SimpleImputer\n",
    "from sklearn.model_selection import train_test_split\n",
    "from sklearn.metrics import accuracy_score, classification_report\n",
    "\n",
    "# Decision tree plotting\n",
    "from sklearn import tree # for text representation\n",
    "import matplotlib.pyplot as plt\n",
    "\n",
    "# RandomForest model\n",
    "from sklearn.ensemble import RandomForestClassifier\n",
    "import seaborn as sns\n",
    "\n",
    "# XGBoost model\n",
    "import xgboost as xgb\n",
    "from xgboost import XGBClassifier\n",
    "\n",
    "# Custom functions import\n",
    "import seg_functions as seg\n"
   ]
  },
  {
   "cell_type": "markdown",
   "metadata": {},
   "source": [
    "#### Data Reading "
   ]
  },
  {
   "cell_type": "code",
   "execution_count": null,
   "metadata": {},
   "outputs": [],
   "source": [
    "data_read_st = pd.read_sas(\"data_all_perf_st.sas7bdat\")\n",
    "data_read_mw = pd.read_sas(\"data_all_perf_mw.sas7bdat\")"
   ]
  },
  {
   "cell_type": "markdown",
   "metadata": {},
   "source": [
    "#### Data Preparation"
   ]
  },
  {
   "cell_type": "code",
   "execution_count": 80,
   "metadata": {},
   "outputs": [],
   "source": [
    "#deleting unnecessary columns (chose different product variables)\n",
    "data_mw = data_read_mw.drop([\"C_100100\",\"C_100110\",\"C_100120\",\"C_100140\",\"C_100160\"], axis=1)\n",
    "data_st = data_read_st.drop([\"C_100100\",\"C_100110\",\"C_100120\",\"C_100140\",\"C_100160\"], axis=1)"
   ]
  },
  {
   "cell_type": "code",
   "execution_count": 81,
   "metadata": {},
   "outputs": [],
   "source": [
    "data_st = data_st.drop([\"CBSMessageId\",\"Exclusion\"],axis=1)\n",
    "data_mw = data_mw.drop([\"CBSMessageId\",\"Exclusion\"],axis=1)"
   ]
  },
  {
   "cell_type": "markdown",
   "metadata": {},
   "source": [
    "##### Bytes to strings"
   ]
  },
  {
   "cell_type": "code",
   "execution_count": 83,
   "metadata": {},
   "outputs": [],
   "source": [
    "#convert bytes to strings\n",
    "columns_to_convert = [\"C_600570\",\"C_660570\",\"C_500300\",\"C_500600\",\"C_501200\",\"C_502400\",\"performance\"]\n",
    "def convert_bytes_to_str(x):\n",
    "    return x.decode('utf-8') if isinstance(x, bytes) else x\n",
    "data_st[columns_to_convert] = data_st[columns_to_convert].map(convert_bytes_to_str)\n",
    "data_mw[columns_to_convert] = data_mw[columns_to_convert].map(convert_bytes_to_str)\n"
   ]
  },
  {
   "cell_type": "markdown",
   "metadata": {},
   "source": [
    "##### Devide data - full dataset and segmentation dataset"
   ]
  },
  {
   "cell_type": "code",
   "execution_count": 86,
   "metadata": {},
   "outputs": [],
   "source": [
    "data_mw_full = data_mw.copy()\n",
    "data_st_full = data_st.copy()\n",
    "data_mw = data_mw.loc[data_mw[\"performance\"].isin([\"B\",\"G\"])]\n",
    "data_st = data_st.loc[data_st[\"performance\"].isin([\"B\",\"G\"])]"
   ]
  },
  {
   "cell_type": "markdown",
   "metadata": {},
   "source": [
    "##### Fill NaNs"
   ]
  },
  {
   "cell_type": "code",
   "execution_count": 87,
   "metadata": {},
   "outputs": [],
   "source": [
    "#performance variables\n",
    "#missing to \"O\" in performance variables\n",
    "cat_perf_cols = [\"C_500300\",\"C_501200\",\"C_500600\",\"C_502400\"]\n",
    "for variable in cat_perf_cols:\n",
    "    data_st[variable] = data_st[variable].fillna('O')    \n",
    "    data_mw[variable] = data_mw[variable].fillna('O')  \n",
    "\n",
    "#variable C_600570 - missing to '00000'\n",
    "data_st[\"C_600570\"] = data_st[\"C_600570\"].fillna('00000')\n",
    "data_mw[\"C_600570\"] = data_mw[\"C_600570\"].fillna('00000')\n",
    "\n",
    "#numeric variables NaN -> -999\n",
    "numeric_columns = data_mw.select_dtypes(include=['int64', 'float64']).columns\n",
    "data_mw[numeric_columns] = data_mw[numeric_columns].fillna(-999)\n",
    "data_st[numeric_columns] = data_st[numeric_columns].fillna(-999)"
   ]
  },
  {
   "cell_type": "markdown",
   "metadata": {},
   "source": [
    "#### Encoding"
   ]
  },
  {
   "cell_type": "code",
   "execution_count": 88,
   "metadata": {},
   "outputs": [],
   "source": [
    "#creating a copy of a dataset, the main dataset is now 'df'\n",
    "df = data_mw.copy()"
   ]
  },
  {
   "cell_type": "code",
   "execution_count": 89,
   "metadata": {},
   "outputs": [],
   "source": [
    "#option 1: \n",
    "#coding of categorical variables (without performance)\n",
    "label_encoders = {}\n",
    "for col in df.columns:\n",
    "    if df[col].dtype == 'object' and col not in cat_perf_cols:\n",
    "        le = LabelEncoder()\n",
    "        df[col] = le.fit_transform(df[col])\n",
    "        label_encoders[col] = le"
   ]
  },
  {
   "cell_type": "code",
   "execution_count": 9,
   "metadata": {},
   "outputs": [],
   "source": [
    "#option 2: \n",
    "def transform_product_codes(df, columns):\n",
    "    for col in columns:\n",
    "        for i in range(5):\n",
    "            new_col_name = f\"{col}_digit_{i+1}\"\n",
    "            df[new_col_name] = df[col].str[i].astype(int)\n",
    "    return df\n",
    "\n",
    "columns = [\"C_600570\",\"C_660570\"]\n",
    "df = transform_product_codes(df, columns)"
   ]
  },
  {
   "cell_type": "code",
   "execution_count": 90,
   "metadata": {},
   "outputs": [],
   "source": [
    "#encoding of performance variables\n",
    "mapping = {'B': 3, 'I': 2, 'G': 1, 'O': 0}\n",
    "for col in cat_perf_cols:\n",
    "    df[col] = df[col].map(mapping)"
   ]
  },
  {
   "cell_type": "code",
   "execution_count": 24,
   "metadata": {},
   "outputs": [],
   "source": [
    "df_transformed = df.drop([\"C_600570\",\"C_660570\"], axis=1)"
   ]
  },
  {
   "cell_type": "markdown",
   "metadata": {},
   "source": [
    "#### Train, test split"
   ]
  },
  {
   "cell_type": "code",
   "execution_count": 91,
   "metadata": {},
   "outputs": [],
   "source": [
    "train,test = train_test_split(df, test_size = 0.3, random_state = 42)\n",
    "\n",
    "#backups\n",
    "test_backup = test.copy()\n",
    "train_backup = train.copy()"
   ]
  },
  {
   "cell_type": "markdown",
   "metadata": {},
   "source": [
    "#### Prepartion of data for models"
   ]
  },
  {
   "cell_type": "code",
   "execution_count": 93,
   "metadata": {},
   "outputs": [],
   "source": [
    "data_to_train = train.copy()"
   ]
  },
  {
   "cell_type": "markdown",
   "metadata": {},
   "source": [
    "##### Segment 1 determination"
   ]
  },
  {
   "cell_type": "code",
   "execution_count": 100,
   "metadata": {},
   "outputs": [],
   "source": [
    "performance_cols = [\"C_111640\",\"C_111660\",\"C_111620\",\"C_111600\",\"C_111500\",\"C_500300\",\"C_501200\",\"C_502400\",\"C_751200\",\"C_750600\",\"C_750100\",\"C_752400\",\"C_750300\",\"C_106920\"]\n",
    "#droping performance cols:\n",
    "data_to_train = train.drop(performance_cols, axis=1)"
   ]
  },
  {
   "cell_type": "markdown",
   "metadata": {},
   "source": [
    "##### Segment 2 determination"
   ]
  },
  {
   "cell_type": "code",
   "execution_count": 104,
   "metadata": {},
   "outputs": [],
   "source": [
    "#droping segment 1 and relevant variables\n",
    "determination_var_s1 = \"C_500600\"\n",
    "condition_s1 = (train[determination_var_s1] == 0)|(train[determination_var_s1] == 1)\n",
    "data_to_train = train[condition_s1].copy()\n",
    "data_to_train = data_to_train.drop(performance_cols, axis = 1).drop(determination_var_s1, axis = 1)"
   ]
  },
  {
   "cell_type": "markdown",
   "metadata": {},
   "source": [
    "##### Segment 3 and 4 determination"
   ]
  },
  {
   "cell_type": "code",
   "execution_count": 108,
   "metadata": {},
   "outputs": [],
   "source": [
    "determination_var_s2 = \"C_102800\"\n",
    "condition_s1 = (train[determination_var_s1] == 0)|(train[determination_var_s1] == 1)\n",
    "condition_s2 = (train[determination_var_s2] <= 9.6)\n",
    "data_to_train = train[condition_s1 & condition_s2].copy() #droping segment 1 a 2\n",
    "cols_to_drop = performance_cols + [determination_var_s1, determination_var_s2] #... performance_cols + relevant vars for seg 1 a 2\n",
    "data_to_train = data_to_train.drop(cols_to_drop, axis = 1)\n"
   ]
  },
  {
   "cell_type": "markdown",
   "metadata": {},
   "source": [
    "### Models"
   ]
  },
  {
   "cell_type": "markdown",
   "metadata": {},
   "source": [
    "##### Decision Tree"
   ]
  },
  {
   "cell_type": "code",
   "execution_count": 112,
   "metadata": {},
   "outputs": [],
   "source": [
    "X = data_to_train.drop('performance', axis = 1)\n",
    "y = data_to_train['performance']\n",
    "\n",
    "# X and y split depends on the dataset used\n",
    "# options:\n",
    "#testing only 1 variable\n",
    "var_to_test = \"C_114100\"\n",
    "X = pd.DataFrame(X[var_to_test])"
   ]
  },
  {
   "cell_type": "code",
   "execution_count": null,
   "metadata": {},
   "outputs": [],
   "source": [
    "clf = DecisionTreeClassifier(criterion = 'entropy', max_depth = 3, random_state = 42, min_samples_leaf = 5_000, max_leaf_nodes=4)\n",
    "clf.fit(X, y)"
   ]
  },
  {
   "cell_type": "markdown",
   "metadata": {},
   "source": [
    "Visualisation"
   ]
  },
  {
   "cell_type": "code",
   "execution_count": null,
   "metadata": {},
   "outputs": [],
   "source": [
    "seg.tree_viz_text(clf) #text"
   ]
  },
  {
   "cell_type": "code",
   "execution_count": null,
   "metadata": {},
   "outputs": [],
   "source": [
    "seg.tree_viz_plot(clf, class_names = [\"B\",\"G\"], w = 30, h = 20) #plot"
   ]
  },
  {
   "cell_type": "markdown",
   "metadata": {},
   "source": [
    "##### Random Forest"
   ]
  },
  {
   "cell_type": "code",
   "execution_count": 97,
   "metadata": {},
   "outputs": [],
   "source": [
    "X = data_to_train.drop('performance', axis = 1)\n",
    "y = data_to_train['performance']"
   ]
  },
  {
   "cell_type": "code",
   "execution_count": 98,
   "metadata": {},
   "outputs": [],
   "source": [
    "rf = RandomForestClassifier(criterion = 'entropy', max_depth = 3, random_state = 42, min_samples_leaf = 5_000, n_estimators = 500)\n",
    "rf.fit(X, y)\n",
    "\n",
    "feature_importance = pd.DataFrame({\n",
    "    'feature': X.columns,\n",
    "    'importance': rf.feature_importances_\n",
    "})"
   ]
  },
  {
   "cell_type": "markdown",
   "metadata": {},
   "source": [
    "Output"
   ]
  },
  {
   "cell_type": "code",
   "execution_count": null,
   "metadata": {},
   "outputs": [],
   "source": [
    "feature_importance.sort_values(by = 'importance', ascending=False).reset_index(drop=True)"
   ]
  },
  {
   "cell_type": "markdown",
   "metadata": {},
   "source": [
    "##### XGBoost"
   ]
  },
  {
   "cell_type": "code",
   "execution_count": 58,
   "metadata": {},
   "outputs": [],
   "source": [
    "X = data_to_train.drop('performance', axis = 1)\n",
    "y = data_to_train['performance']"
   ]
  },
  {
   "cell_type": "code",
   "execution_count": null,
   "metadata": {},
   "outputs": [],
   "source": [
    "model = XGBClassifier(objective='binary:logistic',\n",
    "    eval_metric='logloss',\n",
    "    max_depth=3,\n",
    "    seed=42, n_estimators=500)\n",
    "model.fit(X,y)"
   ]
  },
  {
   "cell_type": "code",
   "execution_count": 60,
   "metadata": {},
   "outputs": [],
   "source": [
    "feature_importances = model.feature_importances_\n",
    "\n",
    "importance_df = pd.DataFrame({\n",
    "    'Feature': X.columns,\n",
    "    'Importance': feature_importances\n",
    "}).sort_values(by='Importance', ascending=False)\n"
   ]
  },
  {
   "cell_type": "markdown",
   "metadata": {},
   "source": [
    "Output"
   ]
  },
  {
   "cell_type": "code",
   "execution_count": null,
   "metadata": {},
   "outputs": [],
   "source": [
    "importance_df"
   ]
  }
 ],
 "metadata": {
  "kernelspec": {
   "display_name": "base",
   "language": "python",
   "name": "python3"
  },
  "language_info": {
   "codemirror_mode": {
    "name": "ipython",
    "version": 3
   },
   "file_extension": ".py",
   "mimetype": "text/x-python",
   "name": "python",
   "nbconvert_exporter": "python",
   "pygments_lexer": "ipython3",
   "version": "3.12.4"
  }
 },
 "nbformat": 4,
 "nbformat_minor": 2
}
